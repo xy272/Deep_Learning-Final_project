{
 "cells": [
  {
   "cell_type": "code",
   "execution_count": 1,
   "metadata": {},
   "outputs": [],
   "source": [
    "from __future__ import absolute_import, division, print_function, unicode_literals\n",
    "import os, glob\n",
    "os.environ['CUDA_VISIBLE_DEVICES'] = '0' # GPU\n",
    "import tensorflow.python as tf\n",
    "\n",
    "import numpy as np\n",
    "import matplotlib.pyplot as plt\n",
    "import skimage.io as io\n",
    "from scipy import signal, ndimage\n",
    "from scipy.io import loadmat, savemat\n",
    "from skimage import data, img_as_float, exposure\n",
    "from pandas.io.parsers import read_csv\n",
    "from sklearn.utils import shuffle"
   ]
  },
  {
   "cell_type": "code",
   "execution_count": 2,
   "metadata": {},
   "outputs": [],
   "source": [
    "from func_processing import img_affine, img_hflip, load, get_y_as_heatmap, get_avg_xy\n",
    "from sklearn.model_selection import train_test_split\n",
    "\n",
    "FTRAIN = './data/facial-keypoints-detection/training.csv'"
   ]
  },
  {
   "cell_type": "code",
   "execution_count": 3,
   "metadata": {},
   "outputs": [],
   "source": [
    "# load data\n",
    "X, Y = load(FTRAIN)\n",
    "X = X.reshape(-1,96,96)\n",
    "# split into training and testing\n",
    "X_train, X_test, Y_train, Y_test = train_test_split(X, Y, test_size=0.1, random_state=42)\n",
    "X_train = np.expand_dims(X_train, axis=3)\n",
    "X_test = np.expand_dims(X_test, axis=3)"
   ]
  },
  {
   "cell_type": "code",
   "execution_count": 4,
   "metadata": {},
   "outputs": [],
   "source": [
    "# training data augmentation\n",
    "np.random.seed(0)\n",
    "dz = np.random.randint(-5,5,(X_train.shape[0],2))\n",
    "X_train0 = []\n",
    "Y_train0 = []\n",
    "for i, x in enumerate(X_train):\n",
    "    xt, yt = img_affine(np.squeeze(x), Y_train[i], dz[i,0], dz[i,1], 96, 96)\n",
    "    X_train0.append(xt)\n",
    "    Y_train0.append(yt)\n",
    "    xf, yf = img_hflip(np.squeeze(x), Y_train[i])\n",
    "    X_train0.append(xf)\n",
    "    Y_train0.append(yf)\n",
    "X_train0 = np.array(X_train0)\n",
    "Y_train0 = np.array(Y_train0)\n",
    "\n",
    "X_train0 = np.expand_dims(X_train0, axis=3)"
   ]
  },
  {
   "cell_type": "code",
   "execution_count": 5,
   "metadata": {
    "scrolled": true
   },
   "outputs": [
    {
     "data": {
      "text/plain": [
       "(3852, 30)"
      ]
     },
     "execution_count": 5,
     "metadata": {},
     "output_type": "execute_result"
    }
   ],
   "source": [
    "Y_train0.shape"
   ]
  },
  {
   "cell_type": "code",
   "execution_count": 6,
   "metadata": {},
   "outputs": [
    {
     "name": "stdout",
     "output_type": "stream",
     "text": [
      "Epoch 1/50\n",
      "97/97 [==============================] - 11s 70ms/step - loss: 0.0067 - accuracy: 0.2121 - val_loss: 0.0050 - val_accuracy: 0.3281\n",
      "\n",
      "Epoch 00001: val_loss improved from inf to 0.00504, saving model to model-tgs-seg2.h5\n",
      "Epoch 2/50\n",
      "97/97 [==============================] - 7s 71ms/step - loss: 0.0047 - accuracy: 0.3353 - val_loss: 0.0044 - val_accuracy: 0.3574\n",
      "\n",
      "Epoch 00002: val_loss improved from 0.00504 to 0.00440, saving model to model-tgs-seg2.h5\n",
      "Epoch 3/50\n",
      "97/97 [==============================] - 7s 70ms/step - loss: 0.0042 - accuracy: 0.3748 - val_loss: 0.0039 - val_accuracy: 0.3778\n",
      "\n",
      "Epoch 00003: val_loss improved from 0.00440 to 0.00386, saving model to model-tgs-seg2.h5\n",
      "Epoch 4/50\n",
      "97/97 [==============================] - 7s 69ms/step - loss: 0.0034 - accuracy: 0.3658 - val_loss: 0.0029 - val_accuracy: 0.3744\n",
      "\n",
      "Epoch 00004: val_loss improved from 0.00386 to 0.00293, saving model to model-tgs-seg2.h5\n",
      "Epoch 5/50\n",
      "97/97 [==============================] - 7s 69ms/step - loss: 0.0027 - accuracy: 0.3862 - val_loss: 0.0025 - val_accuracy: 0.3861\n",
      "\n",
      "Epoch 00005: val_loss improved from 0.00293 to 0.00245, saving model to model-tgs-seg2.h5\n",
      "Epoch 6/50\n",
      "97/97 [==============================] - 7s 69ms/step - loss: 0.0022 - accuracy: 0.4053 - val_loss: 0.0022 - val_accuracy: 0.4164\n",
      "\n",
      "Epoch 00006: val_loss improved from 0.00245 to 0.00218, saving model to model-tgs-seg2.h5\n",
      "Epoch 7/50\n",
      "97/97 [==============================] - 7s 69ms/step - loss: 0.0019 - accuracy: 0.4373 - val_loss: 0.0020 - val_accuracy: 0.4444\n",
      "\n",
      "Epoch 00007: val_loss improved from 0.00218 to 0.00203, saving model to model-tgs-seg2.h5\n",
      "Epoch 8/50\n",
      "97/97 [==============================] - 7s 68ms/step - loss: 0.0017 - accuracy: 0.4539 - val_loss: 0.0022 - val_accuracy: 0.4288\n",
      "\n",
      "Epoch 00008: val_loss did not improve from 0.00203\n",
      "Epoch 9/50\n",
      "97/97 [==============================] - 7s 68ms/step - loss: 0.0016 - accuracy: 0.4617 - val_loss: 0.0019 - val_accuracy: 0.4507\n",
      "\n",
      "Epoch 00009: val_loss improved from 0.00203 to 0.00193, saving model to model-tgs-seg2.h5\n",
      "Epoch 10/50\n",
      "97/97 [==============================] - 7s 68ms/step - loss: 0.0014 - accuracy: 0.4734 - val_loss: 0.0019 - val_accuracy: 0.4531\n",
      "\n",
      "Epoch 00010: val_loss improved from 0.00193 to 0.00192, saving model to model-tgs-seg2.h5\n",
      "Epoch 11/50\n",
      "97/97 [==============================] - 7s 68ms/step - loss: 0.0012 - accuracy: 0.4793 - val_loss: 0.0019 - val_accuracy: 0.4730\n",
      "\n",
      "Epoch 00011: val_loss improved from 0.00192 to 0.00185, saving model to model-tgs-seg2.h5\n",
      "Epoch 12/50\n",
      "97/97 [==============================] - 7s 68ms/step - loss: 0.0011 - accuracy: 0.4911 - val_loss: 0.0017 - val_accuracy: 0.4727\n",
      "\n",
      "Epoch 00012: val_loss improved from 0.00185 to 0.00174, saving model to model-tgs-seg2.h5\n",
      "Epoch 13/50\n",
      "97/97 [==============================] - 7s 68ms/step - loss: 9.0881e-04 - accuracy: 0.4994 - val_loss: 0.0017 - val_accuracy: 0.4742\n",
      "\n",
      "Epoch 00013: val_loss improved from 0.00174 to 0.00172, saving model to model-tgs-seg2.h5\n",
      "Epoch 14/50\n",
      "97/97 [==============================] - 7s 68ms/step - loss: 8.0602e-04 - accuracy: 0.4927 - val_loss: 0.0017 - val_accuracy: 0.4481\n",
      "\n",
      "Epoch 00014: val_loss did not improve from 0.00172\n",
      "Epoch 15/50\n",
      "97/97 [==============================] - 7s 69ms/step - loss: 7.0623e-04 - accuracy: 0.4891 - val_loss: 0.0016 - val_accuracy: 0.4501\n",
      "\n",
      "Epoch 00015: val_loss improved from 0.00172 to 0.00162, saving model to model-tgs-seg2.h5\n",
      "Epoch 16/50\n",
      "97/97 [==============================] - 7s 70ms/step - loss: 6.4113e-04 - accuracy: 0.4876 - val_loss: 0.0016 - val_accuracy: 0.4542\n",
      "\n",
      "Epoch 00016: val_loss improved from 0.00162 to 0.00159, saving model to model-tgs-seg2.h5\n",
      "Epoch 17/50\n",
      "97/97 [==============================] - 7s 72ms/step - loss: 5.8720e-04 - accuracy: 0.4669 - val_loss: 0.0016 - val_accuracy: 0.4301\n",
      "\n",
      "Epoch 00017: val_loss did not improve from 0.00159\n",
      "Epoch 18/50\n",
      "97/97 [==============================] - 7s 68ms/step - loss: 5.4691e-04 - accuracy: 0.4659 - val_loss: 0.0016 - val_accuracy: 0.4302\n",
      "\n",
      "Epoch 00018: val_loss did not improve from 0.00159\n",
      "Epoch 19/50\n",
      "97/97 [==============================] - 7s 69ms/step - loss: 5.1551e-04 - accuracy: 0.4654 - val_loss: 0.0016 - val_accuracy: 0.4202\n",
      "\n",
      "Epoch 00019: val_loss improved from 0.00159 to 0.00158, saving model to model-tgs-seg2.h5\n",
      "Epoch 20/50\n",
      "97/97 [==============================] - 7s 69ms/step - loss: 4.8192e-04 - accuracy: 0.4655 - val_loss: 0.0015 - val_accuracy: 0.4288\n",
      "\n",
      "Epoch 00020: ReduceLROnPlateau reducing learning rate to 0.00010000000474974513.\n",
      "\n",
      "Epoch 00020: val_loss improved from 0.00158 to 0.00155, saving model to model-tgs-seg2.h5\n",
      "Epoch 21/50\n",
      "97/97 [==============================] - 7s 69ms/step - loss: 4.2406e-04 - accuracy: 0.4704 - val_loss: 0.0015 - val_accuracy: 0.4249\n",
      "\n",
      "Epoch 00021: val_loss improved from 0.00155 to 0.00153, saving model to model-tgs-seg2.h5\n",
      "Epoch 22/50\n",
      "97/97 [==============================] - 7s 68ms/step - loss: 4.1312e-04 - accuracy: 0.4706 - val_loss: 0.0015 - val_accuracy: 0.4266\n",
      "\n",
      "Epoch 00022: val_loss did not improve from 0.00153\n",
      "Epoch 23/50\n",
      "97/97 [==============================] - 7s 68ms/step - loss: 4.0818e-04 - accuracy: 0.4715 - val_loss: 0.0015 - val_accuracy: 0.4259\n",
      "\n",
      "Epoch 00023: val_loss did not improve from 0.00153\n",
      "Epoch 24/50\n",
      "97/97 [==============================] - 7s 67ms/step - loss: 4.0402e-04 - accuracy: 0.4712 - val_loss: 0.0015 - val_accuracy: 0.4265\n",
      "\n",
      "Epoch 00024: val_loss did not improve from 0.00153\n",
      "Epoch 25/50\n",
      "97/97 [==============================] - 7s 67ms/step - loss: 4.0012e-04 - accuracy: 0.4712 - val_loss: 0.0015 - val_accuracy: 0.4254\n",
      "\n",
      "Epoch 00025: ReduceLROnPlateau reducing learning rate to 1.0000000474974514e-05.\n",
      "\n",
      "Epoch 00025: val_loss improved from 0.00153 to 0.00153, saving model to model-tgs-seg2.h5\n",
      "Epoch 26/50\n",
      "97/97 [==============================] - 7s 67ms/step - loss: 3.9374e-04 - accuracy: 0.4717 - val_loss: 0.0015 - val_accuracy: 0.4260\n",
      "\n",
      "Epoch 00026: val_loss did not improve from 0.00153\n",
      "Epoch 27/50\n",
      "97/97 [==============================] - 7s 68ms/step - loss: 3.9299e-04 - accuracy: 0.4717 - val_loss: 0.0015 - val_accuracy: 0.4261\n",
      "\n",
      "Epoch 00027: val_loss did not improve from 0.00153\n",
      "Epoch 28/50\n",
      "97/97 [==============================] - 7s 67ms/step - loss: 3.9255e-04 - accuracy: 0.4719 - val_loss: 0.0015 - val_accuracy: 0.4259\n",
      "\n",
      "Epoch 00028: val_loss did not improve from 0.00153\n",
      "Epoch 29/50\n",
      "97/97 [==============================] - 7s 68ms/step - loss: 3.9212e-04 - accuracy: 0.4717 - val_loss: 0.0015 - val_accuracy: 0.4260\n",
      "\n",
      "Epoch 00029: val_loss did not improve from 0.00153\n",
      "Epoch 30/50\n",
      "97/97 [==============================] - 7s 68ms/step - loss: 3.9173e-04 - accuracy: 0.4715 - val_loss: 0.0015 - val_accuracy: 0.4262\n",
      "\n",
      "Epoch 00030: ReduceLROnPlateau reducing learning rate to 1e-05.\n",
      "\n",
      "Epoch 00030: val_loss did not improve from 0.00153\n",
      "Epoch 31/50\n",
      "97/97 [==============================] - 7s 68ms/step - loss: 3.9131e-04 - accuracy: 0.4718 - val_loss: 0.0015 - val_accuracy: 0.4257\n",
      "\n",
      "Epoch 00031: val_loss did not improve from 0.00153\n",
      "Epoch 32/50\n",
      "97/97 [==============================] - 7s 68ms/step - loss: 3.9088e-04 - accuracy: 0.4717 - val_loss: 0.0015 - val_accuracy: 0.4260\n",
      "\n",
      "Epoch 00032: val_loss did not improve from 0.00153\n",
      "Epoch 33/50\n",
      "97/97 [==============================] - 7s 68ms/step - loss: 3.9046e-04 - accuracy: 0.4717 - val_loss: 0.0015 - val_accuracy: 0.4258\n",
      "\n",
      "Epoch 00033: val_loss did not improve from 0.00153\n",
      "Epoch 34/50\n",
      "97/97 [==============================] - 7s 68ms/step - loss: 3.9005e-04 - accuracy: 0.4718 - val_loss: 0.0015 - val_accuracy: 0.4255\n",
      "\n",
      "Epoch 00034: val_loss did not improve from 0.00153\n",
      "Epoch 35/50\n",
      "97/97 [==============================] - 7s 68ms/step - loss: 3.8962e-04 - accuracy: 0.4717 - val_loss: 0.0015 - val_accuracy: 0.4261\n",
      "\n",
      "Epoch 00035: val_loss did not improve from 0.00153\n",
      "Epoch 00035: early stopping\n"
     ]
    }
   ],
   "source": [
    "from func_FCN import FCN\n",
    "\n",
    "y_train0 = get_y_as_heatmap(Y_train0, 96, 96, 5)\n",
    "X_train, X_valid, y_train, y_valid = train_test_split(X_train0, y_train0, test_size=0.2, random_state=43)\n",
    "\n",
    "model = FCN(96, 96, 64)\n",
    "model.compile(optimizer='adam', loss='mse', metrics=['accuracy'])\n",
    "\n",
    "from tensorflow.python.keras.callbacks import EarlyStopping, ModelCheckpoint, ReduceLROnPlateau\n",
    "callbacks = [\n",
    "EarlyStopping(patience=10, verbose=1),\n",
    "ReduceLROnPlateau(factor=0.1, patience=5, min_lr=0.00001, verbose=1),\n",
    "ModelCheckpoint('model-tgs-seg2.h5', verbose=1, save_best_only=True, save_weights_only=True)\n",
    "]\n",
    "\n",
    "history = model.fit(X_train, y_train, batch_size=32, epochs=50, callbacks=callbacks, validation_data=(X_valid, y_valid))"
   ]
  },
  {
   "cell_type": "code",
   "execution_count": 7,
   "metadata": {},
   "outputs": [],
   "source": [
    "plt.plot(history.history['loss'], label='traning loss')\n",
    "plt.plot(history.history['val_loss'], label = 'validation loss')\n",
    "plt.yscale('log')\n",
    "plt.legend()\n",
    "plt.xlabel('Epoch')\n",
    "plt.ylabel('loss')\n",
    "# plt.savefig('./model/hist_fcn.png')\n",
    "plt.close()"
   ]
  },
  {
   "cell_type": "code",
   "execution_count": 8,
   "metadata": {},
   "outputs": [
    {
     "name": "stdout",
     "output_type": "stream",
     "text": [
      "INFO:tensorflow:Assets written to: ./model/fcn\\assets\n"
     ]
    }
   ],
   "source": [
    "model.save('./model/fcn')"
   ]
  },
  {
   "cell_type": "markdown",
   "metadata": {},
   "source": [
    "Reload trained data and test"
   ]
  },
  {
   "cell_type": "code",
   "execution_count": 9,
   "metadata": {},
   "outputs": [],
   "source": [
    "model = tf.keras.models.load_model('./model/fcn')"
   ]
  },
  {
   "cell_type": "code",
   "execution_count": 11,
   "metadata": {},
   "outputs": [],
   "source": [
    "# test and convert predict heatmap to coordinate of key points\n",
    "test_pred = model.predict(X_test)\n",
    "loc_pred = []\n",
    "for pred in test_pred:\n",
    "    y_pred = np.zeros(30)\n",
    "    for j in range(15):\n",
    "        msk = np.squeeze(pred[:,:,j])\n",
    "        yx, prob = get_avg_xy(msk, 25)\n",
    "        y_pred[2*j] = yx[1] / 96\n",
    "        y_pred[2*j+1] = yx[0] / 96\n",
    "    loc_pred.append(y_pred)\n",
    "\n",
    "loc_pred = np.array(loc_pred) * 96\n",
    "loc_label = np.array(Y_test) * 96"
   ]
  },
  {
   "cell_type": "code",
   "execution_count": 12,
   "metadata": {},
   "outputs": [
    {
     "data": {
      "image/png": "[encoded data removed]",
      "text/plain": [
       "<Figure size 432x288 with 1 Axes>"
      ]
     },
     "metadata": {
      "needs_background": "light"
     },
     "output_type": "display_data"
    }
   ],
   "source": [
    "# display a sample testing results\n",
    "img = np.squeeze(X_test[0])\n",
    "predicted = loc_pred[0]\n",
    "label = loc_label[0]\n",
    "\n",
    "\n",
    "plt.imshow(img, cmap='gray')\n",
    "for i in range(15):\n",
    "    plt.scatter(predicted[2*i], predicted[2*i+1], c='r')\n",
    "    plt.scatter(label[2*i], label[2*i+1], c='g')\n",
    "\n",
    "plt.show()"
   ]
  },
  {
   "cell_type": "code",
   "execution_count": 13,
   "metadata": {},
   "outputs": [
    {
     "name": "stdout",
     "output_type": "stream",
     "text": [
      "average error distance among all 15 key points is 6.058904\n",
      "\n"
     ]
    }
   ],
   "source": [
    "# calculate average distance between predict and label points\n",
    "distance = []\n",
    "for i in range(15):\n",
    "    distance.append(np.sqrt((loc_pred[:,2*i] - loc_label[:,2*i]) ** 2 + (loc_pred[:,2*i+1] - loc_label[:,2*i+1]) ** 2))\n",
    "distance = np.array(distance)\n",
    "avg_dist_per_loc = np.mean(distance, axis=1)\n",
    "avg_dist = np.mean(avg_dist_per_loc)\n",
    "print('average error distance among all 15 key points is %f\\n'%(avg_dist))"
   ]
  },
  {
   "cell_type": "code",
   "execution_count": 14,
   "metadata": {},
   "outputs": [
    {
     "data": {
      "text/plain": [
       "array([ 6.69964701,  6.44957369,  4.5376451 ,  9.38849428,  4.18825717,\n",
       "        9.15337856,  4.11551069, 12.91546083,  4.21771784, 12.6971305 ,\n",
       "        1.15540162,  6.41488219,  6.25782664,  1.20774105,  1.48489249])"
      ]
     },
     "execution_count": 14,
     "metadata": {},
     "output_type": "execute_result"
    }
   ],
   "source": [
    "avg_dist_per_loc"
   ]
  },
  {
   "cell_type": "code",
   "execution_count": null,
   "metadata": {},
   "outputs": [],
   "source": []
  }
 ],
 "metadata": {
  "kernelspec": {
   "display_name": "Python 3 (ipykernel)",
   "language": "python",
   "name": "python3"
  },
  "language_info": {
   "codemirror_mode": {
    "name": "ipython",
    "version": 3
   },
   "file_extension": ".py",
   "mimetype": "text/x-python",
   "name": "python",
   "nbconvert_exporter": "python",
   "pygments_lexer": "ipython3",
   "version": "3.9.7"
  }
 },
 "nbformat": 4,
 "nbformat_minor": 2
}
